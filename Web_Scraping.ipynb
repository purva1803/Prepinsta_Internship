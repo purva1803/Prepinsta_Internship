{
  "nbformat": 4,
  "nbformat_minor": 0,
  "metadata": {
    "colab": {
      "provenance": [],
      "authorship_tag": "ABX9TyNdv0k57R9zEXPJ3zj9mOUe",
      "include_colab_link": true
    },
    "kernelspec": {
      "name": "python3",
      "display_name": "Python 3"
    },
    "language_info": {
      "name": "python"
    }
  },
  "cells": [
    {
      "cell_type": "markdown",
      "metadata": {
        "id": "view-in-github",
        "colab_type": "text"
      },
      "source": [
        "<a href=\"https://colab.research.google.com/github/purva1803/Prepinsta_Internship/blob/main/Web_Scraping.ipynb\" target=\"_parent\"><img src=\"https://colab.research.google.com/assets/colab-badge.svg\" alt=\"Open In Colab\"/></a>"
      ]
    },
    {
      "cell_type": "code",
      "execution_count": null,
      "metadata": {
        "id": "fJmhiiiWGREX"
      },
      "outputs": [],
      "source": [
        "import requests\n",
        "from bs4 import BeautifulSoup as bs"
      ]
    },
    {
      "cell_type": "code",
      "source": [
        "url = 'http://books.toscrape.com/'\n",
        "response = requests.get(url)"
      ],
      "metadata": {
        "id": "S2E943OVUIJR"
      },
      "execution_count": null,
      "outputs": []
    },
    {
      "cell_type": "code",
      "source": [
        "response"
      ],
      "metadata": {
        "colab": {
          "base_uri": "https://localhost:8080/"
        },
        "id": "Q6fYRzHPUnRf",
        "outputId": "5bea888b-cffe-45c4-d310-5140ca8780ea"
      },
      "execution_count": null,
      "outputs": [
        {
          "output_type": "execute_result",
          "data": {
            "text/plain": [
              "<Response [200]>"
            ]
          },
          "metadata": {},
          "execution_count": 6
        }
      ]
    },
    {
      "cell_type": "code",
      "source": [
        "print(response.text[:1000])"
      ],
      "metadata": {
        "colab": {
          "base_uri": "https://localhost:8080/"
        },
        "id": "2Rm1EQNQU7HV",
        "outputId": "1facf560-fcca-4138-a1e6-a4b9d80838a3"
      },
      "execution_count": null,
      "outputs": [
        {
          "output_type": "stream",
          "name": "stdout",
          "text": [
            "<!DOCTYPE html>\n",
            "<!--[if lt IE 7]>      <html lang=\"en-us\" class=\"no-js lt-ie9 lt-ie8 lt-ie7\"> <![endif]-->\n",
            "<!--[if IE 7]>         <html lang=\"en-us\" class=\"no-js lt-ie9 lt-ie8\"> <![endif]-->\n",
            "<!--[if IE 8]>         <html lang=\"en-us\" class=\"no-js lt-ie9\"> <![endif]-->\n",
            "<!--[if gt IE 8]><!--> <html lang=\"en-us\" class=\"no-js\"> <!--<![endif]-->\n",
            "    <head>\n",
            "        <title>\n",
            "    All products | Books to Scrape - Sandbox\n",
            "</title>\n",
            "\n",
            "        <meta http-equiv=\"content-type\" content=\"text/html; charset=UTF-8\" />\n",
            "        <meta name=\"created\" content=\"24th Jun 2016 09:29\" />\n",
            "        <meta name=\"description\" content=\"\" />\n",
            "        <meta name=\"viewport\" content=\"width=device-width\" />\n",
            "        <meta name=\"robots\" content=\"NOARCHIVE,NOCACHE\" />\n",
            "\n",
            "        <!-- Le HTML5 shim, for IE6-8 support of HTML elements -->\n",
            "        <!--[if lt IE 9]>\n",
            "        <script src=\"//html5shim.googlecode.com/svn/trunk/html5.js\"></script>\n",
            "        <![endif]-->\n",
            "\n",
            "        \n",
            "            <link rel=\"shortcut icon\" href=\"static/oscar/favicon.\n"
          ]
        }
      ]
    },
    {
      "cell_type": "code",
      "source": [
        "soup = bs(response.text)"
      ],
      "metadata": {
        "id": "tm4NLOHBWLxM"
      },
      "execution_count": null,
      "outputs": []
    },
    {
      "cell_type": "code",
      "source": [
        "type(soup)"
      ],
      "metadata": {
        "colab": {
          "base_uri": "https://localhost:8080/"
        },
        "id": "Jn3I_yTgW9Wl",
        "outputId": "c729d4b1-6235-4b7c-d0be-6e4184032903"
      },
      "execution_count": null,
      "outputs": [
        {
          "output_type": "execute_result",
          "data": {
            "text/plain": [
              "bs4.BeautifulSoup"
            ]
          },
          "metadata": {},
          "execution_count": 9
        }
      ]
    },
    {
      "cell_type": "markdown",
      "source": [
        "To inspect all the HTML tag and to identify the book tag so that we can extract information about the books."
      ],
      "metadata": {
        "id": "ET28ZCJ02Z95"
      }
    },
    {
      "cell_type": "code",
      "source": [
        "books_tag = soup.find_all('article', class_='product_pod')"
      ],
      "metadata": {
        "id": "t_s9BBUs2Oov"
      },
      "execution_count": null,
      "outputs": []
    },
    {
      "cell_type": "markdown",
      "source": [
        "To select a single book and extract all the information we **can**"
      ],
      "metadata": {
        "id": "F9e9D9LC2iAl"
      }
    },
    {
      "cell_type": "code",
      "source": [
        "book_tag = books_tag[0]\n",
        "book_tag"
      ],
      "metadata": {
        "colab": {
          "base_uri": "https://localhost:8080/"
        },
        "id": "6pZVFq4f2dUo",
        "outputId": "7c1b1b25-3960-4acf-c051-7cd81d81c031"
      },
      "execution_count": null,
      "outputs": [
        {
          "output_type": "execute_result",
          "data": {
            "text/plain": [
              "<article class=\"product_pod\">\n",
              "<div class=\"image_container\">\n",
              "<a href=\"catalogue/a-light-in-the-attic_1000/index.html\"><img alt=\"A Light in the Attic\" class=\"thumbnail\" src=\"media/cache/2c/da/2cdad67c44b002e7ead0cc35693c0e8b.jpg\"/></a>\n",
              "</div>\n",
              "<p class=\"star-rating Three\">\n",
              "<i class=\"icon-star\"></i>\n",
              "<i class=\"icon-star\"></i>\n",
              "<i class=\"icon-star\"></i>\n",
              "<i class=\"icon-star\"></i>\n",
              "<i class=\"icon-star\"></i>\n",
              "</p>\n",
              "<h3><a href=\"catalogue/a-light-in-the-attic_1000/index.html\" title=\"A Light in the Attic\">A Light in the ...</a></h3>\n",
              "<div class=\"product_price\">\n",
              "<p class=\"price_color\">Â£51.77</p>\n",
              "<p class=\"instock availability\">\n",
              "<i class=\"icon-ok\"></i>\n",
              "    \n",
              "        In stock\n",
              "    \n",
              "</p>\n",
              "<form>\n",
              "<button class=\"btn btn-primary btn-block\" data-loading-text=\"Adding...\" type=\"submit\">Add to basket</button>\n",
              "</form>\n",
              "</div>\n",
              "</article>"
            ]
          },
          "metadata": {},
          "execution_count": 11
        }
      ]
    },
    {
      "cell_type": "markdown",
      "source": [
        "To collect book from title attribute"
      ],
      "metadata": {
        "id": "xF-spPl62wWt"
      }
    },
    {
      "cell_type": "code",
      "source": [
        "title_tag = book_tag.find('a', title=True)\n",
        "title_tag"
      ],
      "metadata": {
        "id": "1tB1MJMc25jB",
        "colab": {
          "base_uri": "https://localhost:8080/"
        },
        "outputId": "1fb567ec-4122-4963-a86b-e3f490577661"
      },
      "execution_count": null,
      "outputs": [
        {
          "output_type": "execute_result",
          "data": {
            "text/plain": [
              "<a href=\"catalogue/a-light-in-the-attic_1000/index.html\" title=\"A Light in the Attic\">A Light in the ...</a>"
            ]
          },
          "metadata": {},
          "execution_count": 12
        }
      ]
    },
    {
      "cell_type": "markdown",
      "source": [
        "To get the book tilte"
      ],
      "metadata": {
        "id": "cMCORypf5O4s"
      }
    },
    {
      "cell_type": "code",
      "source": [
        "title_tag['title']"
      ],
      "metadata": {
        "colab": {
          "base_uri": "https://localhost:8080/",
          "height": 36
        },
        "id": "6l8ixWn_5eRl",
        "outputId": "de7bdab4-4082-41d9-b037-573966389572"
      },
      "execution_count": null,
      "outputs": [
        {
          "output_type": "execute_result",
          "data": {
            "text/plain": [
              "'A Light in the Attic'"
            ],
            "application/vnd.google.colaboratory.intrinsic+json": {
              "type": "string"
            }
          },
          "metadata": {},
          "execution_count": 13
        }
      ]
    },
    {
      "cell_type": "markdown",
      "source": [
        "Follow the same process (as above) to extract ratings, price & book_link."
      ],
      "metadata": {
        "id": "c_Qdfjik5iQr"
      }
    },
    {
      "cell_type": "markdown",
      "source": [
        "Rating:"
      ],
      "metadata": {
        "id": "O-QJsevF5rGk"
      }
    },
    {
      "cell_type": "code",
      "source": [
        "rating = book_tag.find('p')['class'][1]\n",
        "rating"
      ],
      "metadata": {
        "colab": {
          "base_uri": "https://localhost:8080/",
          "height": 36
        },
        "id": "rVUxFTVe5l9A",
        "outputId": "0c620c3a-502f-40b7-eccc-62ac15e95ae8"
      },
      "execution_count": null,
      "outputs": [
        {
          "output_type": "execute_result",
          "data": {
            "text/plain": [
              "'Three'"
            ],
            "application/vnd.google.colaboratory.intrinsic+json": {
              "type": "string"
            }
          },
          "metadata": {},
          "execution_count": 14
        }
      ]
    },
    {
      "cell_type": "markdown",
      "source": [
        "Price:"
      ],
      "metadata": {
        "id": "lQIXdXrm5ohD"
      }
    },
    {
      "cell_type": "code",
      "source": [
        "price = book_tag.find('p', class_='price_color').text[1:]\n",
        "price"
      ],
      "metadata": {
        "colab": {
          "base_uri": "https://localhost:8080/",
          "height": 36
        },
        "id": "LS5ZToKh5tD1",
        "outputId": "6061247b-86dc-4a04-87c8-55d992034523"
      },
      "execution_count": null,
      "outputs": [
        {
          "output_type": "execute_result",
          "data": {
            "text/plain": [
              "'£51.77'"
            ],
            "application/vnd.google.colaboratory.intrinsic+json": {
              "type": "string"
            }
          },
          "metadata": {},
          "execution_count": 15
        }
      ]
    },
    {
      "cell_type": "markdown",
      "source": [
        "Book link:"
      ],
      "metadata": {
        "id": "q7-vJ8005yAY"
      }
    },
    {
      "cell_type": "code",
      "source": [
        "link = 'http://books.toscrape.com/' + book_tag.find('a')['href']\n",
        "link"
      ],
      "metadata": {
        "colab": {
          "base_uri": "https://localhost:8080/",
          "height": 36
        },
        "id": "PL08NGP15zoA",
        "outputId": "c5ffaf19-14a2-418f-ae7b-a73ffe7e0d43"
      },
      "execution_count": null,
      "outputs": [
        {
          "output_type": "execute_result",
          "data": {
            "text/plain": [
              "'http://books.toscrape.com/catalogue/a-light-in-the-attic_1000/index.html'"
            ],
            "application/vnd.google.colaboratory.intrinsic+json": {
              "type": "string"
            }
          },
          "metadata": {},
          "execution_count": 16
        }
      ]
    },
    {
      "cell_type": "code",
      "source": [
        "def get_details(book_tag):\n",
        "    title = book_tag.find('a', title=True)['title']\n",
        "    rating = book_tag.find('p')['class'][1]\n",
        "    price = book_tag.find('p', class_='price_color').text[1:]\n",
        "    link = 'http://books.toscrape.com/' + book_tag.find('a')['href']\n",
        "    return title, rating, price, link"
      ],
      "metadata": {
        "id": "fTkSifVOP6eo"
      },
      "execution_count": null,
      "outputs": []
    },
    {
      "cell_type": "code",
      "source": [
        "def get_soup(url):\n",
        "    \"\"\"Takes URL and returns a soup object\"\"\"\n",
        "    resp = requests.get(url)\n",
        "    if resp.status_code == 200:\n",
        "        return bs(resp.text)\n",
        "    else: return None\n",
        "\n",
        "\n",
        "def get_books(url):\n",
        "    \"\"\"Extact details from all the book tags\"\"\"\n",
        "    soup = get_soup(url)\n",
        "    book_tags = soup.find_all('article', class_='product_pod')\n",
        "\n",
        "    books = []\n",
        "    for book_tag in book_tags:\n",
        "        books.append(get_details(book_tag))\n",
        "\n",
        "    return books"
      ],
      "metadata": {
        "id": "Ugkf0-r4P70r"
      },
      "execution_count": null,
      "outputs": []
    },
    {
      "cell_type": "code",
      "source": [
        "url = 'http://books.toscrape.com/'\n",
        "books = get_books(url)\n",
        "len(books)"
      ],
      "metadata": {
        "colab": {
          "base_uri": "https://localhost:8080/"
        },
        "id": "7lQivGAzQEUG",
        "outputId": "6acc01c0-1701-4f22-e2d0-65b4f6d72552"
      },
      "execution_count": null,
      "outputs": [
        {
          "output_type": "execute_result",
          "data": {
            "text/plain": [
              "20"
            ]
          },
          "metadata": {},
          "execution_count": 19
        }
      ]
    },
    {
      "cell_type": "code",
      "source": [
        "books[:3]"
      ],
      "metadata": {
        "colab": {
          "base_uri": "https://localhost:8080/"
        },
        "id": "4O8WoGsOQr4D",
        "outputId": "547ccbea-a357-4fff-e2fa-8b0d987f3b90"
      },
      "execution_count": null,
      "outputs": [
        {
          "output_type": "execute_result",
          "data": {
            "text/plain": [
              "[('A Light in the Attic',\n",
              "  'Three',\n",
              "  '£51.77',\n",
              "  'http://books.toscrape.com/catalogue/a-light-in-the-attic_1000/index.html'),\n",
              " ('Tipping the Velvet',\n",
              "  'One',\n",
              "  '£53.74',\n",
              "  'http://books.toscrape.com/catalogue/tipping-the-velvet_999/index.html'),\n",
              " ('Soumission',\n",
              "  'One',\n",
              "  '£50.10',\n",
              "  'http://books.toscrape.com/catalogue/soumission_998/index.html')]"
            ]
          },
          "metadata": {},
          "execution_count": 20
        }
      ]
    },
    {
      "cell_type": "code",
      "source": [
        "import pandas as pd\n",
        "\n",
        "def get_all_books(page = 3):\n",
        "    books = []\n",
        "    for i in range(1, page+1):\n",
        "        ## This is how the url changes with every page\n",
        "        url = f'http://books.toscrape.com/catalogue/page-{i}.html'\n",
        "        soup = get_soup(url)\n",
        "        if soup:\n",
        "            book_tags = soup.find_all('article', class_='product_pod')\n",
        "\n",
        "            for book_tag in book_tags:\n",
        "                books.append(get_details(book_tag))\n",
        "\n",
        "    books = pd.DataFrame(books, columns=['title', 'rating', 'price', 'link'])\n",
        "    return books"
      ],
      "metadata": {
        "id": "jXJBuqpJQvUK"
      },
      "execution_count": null,
      "outputs": []
    },
    {
      "cell_type": "code",
      "source": [
        "df = get_all_books(3)\n",
        "df.head()"
      ],
      "metadata": {
        "colab": {
          "base_uri": "https://localhost:8080/",
          "height": 275
        },
        "id": "N0QY_pZBQy44",
        "outputId": "fac0be4b-3b67-4503-e1ff-978fd5cbc76e"
      },
      "execution_count": null,
      "outputs": [
        {
          "output_type": "execute_result",
          "data": {
            "text/plain": [
              "                                   title rating   price  \\\n",
              "0                   A Light in the Attic  Three  £51.77   \n",
              "1                     Tipping the Velvet    One  £53.74   \n",
              "2                             Soumission    One  £50.10   \n",
              "3                          Sharp Objects   Four  £47.82   \n",
              "4  Sapiens: A Brief History of Humankind   Five  £54.23   \n",
              "\n",
              "                                                link  \n",
              "0  http://books.toscrape.com/a-light-in-the-attic...  \n",
              "1  http://books.toscrape.com/tipping-the-velvet_9...  \n",
              "2  http://books.toscrape.com/soumission_998/index...  \n",
              "3  http://books.toscrape.com/sharp-objects_997/in...  \n",
              "4  http://books.toscrape.com/sapiens-a-brief-hist...  "
            ],
            "text/html": [
              "\n",
              "  <div id=\"df-bab02beb-d98b-41bd-b4c3-b137a15163a5\" class=\"colab-df-container\">\n",
              "    <div>\n",
              "<style scoped>\n",
              "    .dataframe tbody tr th:only-of-type {\n",
              "        vertical-align: middle;\n",
              "    }\n",
              "\n",
              "    .dataframe tbody tr th {\n",
              "        vertical-align: top;\n",
              "    }\n",
              "\n",
              "    .dataframe thead th {\n",
              "        text-align: right;\n",
              "    }\n",
              "</style>\n",
              "<table border=\"1\" class=\"dataframe\">\n",
              "  <thead>\n",
              "    <tr style=\"text-align: right;\">\n",
              "      <th></th>\n",
              "      <th>title</th>\n",
              "      <th>rating</th>\n",
              "      <th>price</th>\n",
              "      <th>link</th>\n",
              "    </tr>\n",
              "  </thead>\n",
              "  <tbody>\n",
              "    <tr>\n",
              "      <th>0</th>\n",
              "      <td>A Light in the Attic</td>\n",
              "      <td>Three</td>\n",
              "      <td>£51.77</td>\n",
              "      <td>http://books.toscrape.com/a-light-in-the-attic...</td>\n",
              "    </tr>\n",
              "    <tr>\n",
              "      <th>1</th>\n",
              "      <td>Tipping the Velvet</td>\n",
              "      <td>One</td>\n",
              "      <td>£53.74</td>\n",
              "      <td>http://books.toscrape.com/tipping-the-velvet_9...</td>\n",
              "    </tr>\n",
              "    <tr>\n",
              "      <th>2</th>\n",
              "      <td>Soumission</td>\n",
              "      <td>One</td>\n",
              "      <td>£50.10</td>\n",
              "      <td>http://books.toscrape.com/soumission_998/index...</td>\n",
              "    </tr>\n",
              "    <tr>\n",
              "      <th>3</th>\n",
              "      <td>Sharp Objects</td>\n",
              "      <td>Four</td>\n",
              "      <td>£47.82</td>\n",
              "      <td>http://books.toscrape.com/sharp-objects_997/in...</td>\n",
              "    </tr>\n",
              "    <tr>\n",
              "      <th>4</th>\n",
              "      <td>Sapiens: A Brief History of Humankind</td>\n",
              "      <td>Five</td>\n",
              "      <td>£54.23</td>\n",
              "      <td>http://books.toscrape.com/sapiens-a-brief-hist...</td>\n",
              "    </tr>\n",
              "  </tbody>\n",
              "</table>\n",
              "</div>\n",
              "    <div class=\"colab-df-buttons\">\n",
              "\n",
              "  <div class=\"colab-df-container\">\n",
              "    <button class=\"colab-df-convert\" onclick=\"convertToInteractive('df-bab02beb-d98b-41bd-b4c3-b137a15163a5')\"\n",
              "            title=\"Convert this dataframe to an interactive table.\"\n",
              "            style=\"display:none;\">\n",
              "\n",
              "  <svg xmlns=\"http://www.w3.org/2000/svg\" height=\"24px\" viewBox=\"0 -960 960 960\">\n",
              "    <path d=\"M120-120v-720h720v720H120Zm60-500h600v-160H180v160Zm220 220h160v-160H400v160Zm0 220h160v-160H400v160ZM180-400h160v-160H180v160Zm440 0h160v-160H620v160ZM180-180h160v-160H180v160Zm440 0h160v-160H620v160Z\"/>\n",
              "  </svg>\n",
              "    </button>\n",
              "\n",
              "  <style>\n",
              "    .colab-df-container {\n",
              "      display:flex;\n",
              "      gap: 12px;\n",
              "    }\n",
              "\n",
              "    .colab-df-convert {\n",
              "      background-color: #E8F0FE;\n",
              "      border: none;\n",
              "      border-radius: 50%;\n",
              "      cursor: pointer;\n",
              "      display: none;\n",
              "      fill: #1967D2;\n",
              "      height: 32px;\n",
              "      padding: 0 0 0 0;\n",
              "      width: 32px;\n",
              "    }\n",
              "\n",
              "    .colab-df-convert:hover {\n",
              "      background-color: #E2EBFA;\n",
              "      box-shadow: 0px 1px 2px rgba(60, 64, 67, 0.3), 0px 1px 3px 1px rgba(60, 64, 67, 0.15);\n",
              "      fill: #174EA6;\n",
              "    }\n",
              "\n",
              "    .colab-df-buttons div {\n",
              "      margin-bottom: 4px;\n",
              "    }\n",
              "\n",
              "    [theme=dark] .colab-df-convert {\n",
              "      background-color: #3B4455;\n",
              "      fill: #D2E3FC;\n",
              "    }\n",
              "\n",
              "    [theme=dark] .colab-df-convert:hover {\n",
              "      background-color: #434B5C;\n",
              "      box-shadow: 0px 1px 3px 1px rgba(0, 0, 0, 0.15);\n",
              "      filter: drop-shadow(0px 1px 2px rgba(0, 0, 0, 0.3));\n",
              "      fill: #FFFFFF;\n",
              "    }\n",
              "  </style>\n",
              "\n",
              "    <script>\n",
              "      const buttonEl =\n",
              "        document.querySelector('#df-bab02beb-d98b-41bd-b4c3-b137a15163a5 button.colab-df-convert');\n",
              "      buttonEl.style.display =\n",
              "        google.colab.kernel.accessAllowed ? 'block' : 'none';\n",
              "\n",
              "      async function convertToInteractive(key) {\n",
              "        const element = document.querySelector('#df-bab02beb-d98b-41bd-b4c3-b137a15163a5');\n",
              "        const dataTable =\n",
              "          await google.colab.kernel.invokeFunction('convertToInteractive',\n",
              "                                                    [key], {});\n",
              "        if (!dataTable) return;\n",
              "\n",
              "        const docLinkHtml = 'Like what you see? Visit the ' +\n",
              "          '<a target=\"_blank\" href=https://colab.research.google.com/notebooks/data_table.ipynb>data table notebook</a>'\n",
              "          + ' to learn more about interactive tables.';\n",
              "        element.innerHTML = '';\n",
              "        dataTable['output_type'] = 'display_data';\n",
              "        await google.colab.output.renderOutput(dataTable, element);\n",
              "        const docLink = document.createElement('div');\n",
              "        docLink.innerHTML = docLinkHtml;\n",
              "        element.appendChild(docLink);\n",
              "      }\n",
              "    </script>\n",
              "  </div>\n",
              "\n",
              "\n",
              "<div id=\"df-49829cdd-86aa-407c-9ff3-bba652f01f72\">\n",
              "  <button class=\"colab-df-quickchart\" onclick=\"quickchart('df-49829cdd-86aa-407c-9ff3-bba652f01f72')\"\n",
              "            title=\"Suggest charts\"\n",
              "            style=\"display:none;\">\n",
              "\n",
              "<svg xmlns=\"http://www.w3.org/2000/svg\" height=\"24px\"viewBox=\"0 0 24 24\"\n",
              "     width=\"24px\">\n",
              "    <g>\n",
              "        <path d=\"M19 3H5c-1.1 0-2 .9-2 2v14c0 1.1.9 2 2 2h14c1.1 0 2-.9 2-2V5c0-1.1-.9-2-2-2zM9 17H7v-7h2v7zm4 0h-2V7h2v10zm4 0h-2v-4h2v4z\"/>\n",
              "    </g>\n",
              "</svg>\n",
              "  </button>\n",
              "\n",
              "<style>\n",
              "  .colab-df-quickchart {\n",
              "      --bg-color: #E8F0FE;\n",
              "      --fill-color: #1967D2;\n",
              "      --hover-bg-color: #E2EBFA;\n",
              "      --hover-fill-color: #174EA6;\n",
              "      --disabled-fill-color: #AAA;\n",
              "      --disabled-bg-color: #DDD;\n",
              "  }\n",
              "\n",
              "  [theme=dark] .colab-df-quickchart {\n",
              "      --bg-color: #3B4455;\n",
              "      --fill-color: #D2E3FC;\n",
              "      --hover-bg-color: #434B5C;\n",
              "      --hover-fill-color: #FFFFFF;\n",
              "      --disabled-bg-color: #3B4455;\n",
              "      --disabled-fill-color: #666;\n",
              "  }\n",
              "\n",
              "  .colab-df-quickchart {\n",
              "    background-color: var(--bg-color);\n",
              "    border: none;\n",
              "    border-radius: 50%;\n",
              "    cursor: pointer;\n",
              "    display: none;\n",
              "    fill: var(--fill-color);\n",
              "    height: 32px;\n",
              "    padding: 0;\n",
              "    width: 32px;\n",
              "  }\n",
              "\n",
              "  .colab-df-quickchart:hover {\n",
              "    background-color: var(--hover-bg-color);\n",
              "    box-shadow: 0 1px 2px rgba(60, 64, 67, 0.3), 0 1px 3px 1px rgba(60, 64, 67, 0.15);\n",
              "    fill: var(--button-hover-fill-color);\n",
              "  }\n",
              "\n",
              "  .colab-df-quickchart-complete:disabled,\n",
              "  .colab-df-quickchart-complete:disabled:hover {\n",
              "    background-color: var(--disabled-bg-color);\n",
              "    fill: var(--disabled-fill-color);\n",
              "    box-shadow: none;\n",
              "  }\n",
              "\n",
              "  .colab-df-spinner {\n",
              "    border: 2px solid var(--fill-color);\n",
              "    border-color: transparent;\n",
              "    border-bottom-color: var(--fill-color);\n",
              "    animation:\n",
              "      spin 1s steps(1) infinite;\n",
              "  }\n",
              "\n",
              "  @keyframes spin {\n",
              "    0% {\n",
              "      border-color: transparent;\n",
              "      border-bottom-color: var(--fill-color);\n",
              "      border-left-color: var(--fill-color);\n",
              "    }\n",
              "    20% {\n",
              "      border-color: transparent;\n",
              "      border-left-color: var(--fill-color);\n",
              "      border-top-color: var(--fill-color);\n",
              "    }\n",
              "    30% {\n",
              "      border-color: transparent;\n",
              "      border-left-color: var(--fill-color);\n",
              "      border-top-color: var(--fill-color);\n",
              "      border-right-color: var(--fill-color);\n",
              "    }\n",
              "    40% {\n",
              "      border-color: transparent;\n",
              "      border-right-color: var(--fill-color);\n",
              "      border-top-color: var(--fill-color);\n",
              "    }\n",
              "    60% {\n",
              "      border-color: transparent;\n",
              "      border-right-color: var(--fill-color);\n",
              "    }\n",
              "    80% {\n",
              "      border-color: transparent;\n",
              "      border-right-color: var(--fill-color);\n",
              "      border-bottom-color: var(--fill-color);\n",
              "    }\n",
              "    90% {\n",
              "      border-color: transparent;\n",
              "      border-bottom-color: var(--fill-color);\n",
              "    }\n",
              "  }\n",
              "</style>\n",
              "\n",
              "  <script>\n",
              "    async function quickchart(key) {\n",
              "      const quickchartButtonEl =\n",
              "        document.querySelector('#' + key + ' button');\n",
              "      quickchartButtonEl.disabled = true;  // To prevent multiple clicks.\n",
              "      quickchartButtonEl.classList.add('colab-df-spinner');\n",
              "      try {\n",
              "        const charts = await google.colab.kernel.invokeFunction(\n",
              "            'suggestCharts', [key], {});\n",
              "      } catch (error) {\n",
              "        console.error('Error during call to suggestCharts:', error);\n",
              "      }\n",
              "      quickchartButtonEl.classList.remove('colab-df-spinner');\n",
              "      quickchartButtonEl.classList.add('colab-df-quickchart-complete');\n",
              "    }\n",
              "    (() => {\n",
              "      let quickchartButtonEl =\n",
              "        document.querySelector('#df-49829cdd-86aa-407c-9ff3-bba652f01f72 button');\n",
              "      quickchartButtonEl.style.display =\n",
              "        google.colab.kernel.accessAllowed ? 'block' : 'none';\n",
              "    })();\n",
              "  </script>\n",
              "</div>\n",
              "\n",
              "    </div>\n",
              "  </div>\n"
            ]
          },
          "metadata": {},
          "execution_count": 22
        }
      ]
    },
    {
      "cell_type": "code",
      "source": [
        "import time\n",
        "import requests\n",
        "import pandas as pd\n",
        "from bs4 import BeautifulSoup as bs\n",
        "\n",
        "def get_soup(url):\n",
        "    \"\"\"Takes URL and returns a soup object\"\"\"\n",
        "    try:\n",
        "        resp = requests.get(url)\n",
        "        resp.raise_for_status()  # Raise HTTPError for bad status codes\n",
        "        return bs(resp.text, 'html.parser')\n",
        "    except requests.RequestException as e:\n",
        "        print(f\"Error fetching {url}: {e}\")\n",
        "        return None\n",
        "\n",
        "\n",
        "def get_details(book_tag):\n",
        "    \"\"\"Extract title, rating, price, and link from a book tag\"\"\"\n",
        "    title = book_tag.find('a', title=True)['title'] if book_tag.find('a', title=True) else None\n",
        "\n",
        "    rating_tag = book_tag.find('p', class_='star-rating')\n",
        "    rating = rating_tag.attrs['class'][1] if rating_tag else None\n",
        "\n",
        "    price_tag = book_tag.find('p', class_='price_color')\n",
        "    price = price_tag.text[1:] if price_tag else None\n",
        "\n",
        "    link_tag = book_tag.find('a')\n",
        "    link = 'http://books.toscrape.com/' + link_tag['href'] if link_tag else None\n",
        "\n",
        "    return title, rating, price, link\n",
        "\n",
        "\n",
        "def get_all_books(page=3):\n",
        "    \"\"\"Scrape book information from multiple pages\"\"\"\n",
        "    books = []\n",
        "    for i in range(1, page+1):\n",
        "        url = f'http://books.toscrape.com/catalogue/page-{i}.html'\n",
        "        soup = get_soup(url)\n",
        "        if soup:\n",
        "            try:\n",
        "                book_tags = soup.find_all('article', class_='product_pod')\n",
        "                for book_tag in book_tags:\n",
        "                    books.append(get_details(book_tag))\n",
        "            except Exception as e:\n",
        "                print(f'Error processing page {i}: {e}')\n",
        "\n",
        "            time.sleep(5)  # Sleep before making the next request\n",
        "\n",
        "    return pd.DataFrame(books, columns=['title', 'rating', 'price', 'link'])\n",
        "\n",
        "# Example usage:\n",
        "books_df = get_all_books(page=3)\n",
        "print(books_df)\n"
      ],
      "metadata": {
        "colab": {
          "base_uri": "https://localhost:8080/"
        },
        "id": "UIHrhRHkTs7S",
        "outputId": "41ad1962-26fc-46fc-cc57-00e7a20dfc86"
      },
      "execution_count": null,
      "outputs": [
        {
          "output_type": "stream",
          "name": "stdout",
          "text": [
            "                                                title rating   price  \\\n",
            "0                                A Light in the Attic  Three  £51.77   \n",
            "1                                  Tipping the Velvet    One  £53.74   \n",
            "2                                          Soumission    One  £50.10   \n",
            "3                                       Sharp Objects   Four  £47.82   \n",
            "4               Sapiens: A Brief History of Humankind   Five  £54.23   \n",
            "5                                     The Requiem Red    One  £22.65   \n",
            "6   The Dirty Little Secrets of Getting Your Dream...   Four  £33.34   \n",
            "7   The Coming Woman: A Novel Based on the Life of...  Three  £17.93   \n",
            "8   The Boys in the Boat: Nine Americans and Their...   Four  £22.60   \n",
            "9                                     The Black Maria    One  £52.15   \n",
            "10     Starving Hearts (Triangular Trade Trilogy, #1)    Two  £13.99   \n",
            "11                              Shakespeare's Sonnets   Four  £20.66   \n",
            "12                                        Set Me Free   Five  £17.46   \n",
            "13  Scott Pilgrim's Precious Little Life (Scott Pi...   Five  £52.29   \n",
            "14                          Rip it Up and Start Again   Five  £35.02   \n",
            "15  Our Band Could Be Your Life: Scenes from the A...  Three  £57.25   \n",
            "16                                               Olio    One  £23.88   \n",
            "17  Mesaerion: The Best Science Fiction Stories 18...    One  £37.59   \n",
            "18                       Libertarianism for Beginners    Two  £51.33   \n",
            "19                            It's Only the Himalayas    Two  £45.17   \n",
            "20                                        In Her Wake    One  £12.84   \n",
            "21                                    How Music Works    Two  £37.32   \n",
            "22  Foolproof Preserving: A Guide to Small Batch J...  Three  £30.52   \n",
            "23                         Chase Me (Paris Nights #2)   Five  £25.27   \n",
            "24                                         Black Dust   Five  £34.53   \n",
            "25                      Birdsong: A Story in Pictures  Three  £54.64   \n",
            "26  America's Cradle of Quarterbacks: Western Penn...  Three  £22.50   \n",
            "27                     Aladdin and His Wonderful Lamp  Three  £53.13   \n",
            "28  Worlds Elsewhere: Journeys Around Shakespeareâ...   Five  £40.30   \n",
            "29                                     Wall and Piece   Four  £44.18   \n",
            "30  The Four Agreements: A Practical Guide to Pers...   Five  £17.66   \n",
            "31  The Five Love Languages: How to Express Heartf...  Three  £31.05   \n",
            "32                                  The Elephant Tree   Five  £23.82   \n",
            "33                             The Bear and the Piano    One  £36.89   \n",
            "34                                     Sophie's World   Five  £15.94   \n",
            "35                                        Penny Maybe  Three  £33.29   \n",
            "36     Maude (1883-1993):She Grew Up with the country    Two  £18.02   \n",
            "37                               In a Dark, Dark Wood    One  £19.63   \n",
            "38                                Behind Closed Doors   Four  £52.22   \n",
            "39                     You can't bury them all: Poems    Two  £33.63   \n",
            "40                     Slow States of Collapse: Poems  Three  £57.31   \n",
            "41                              Reasons to Stay Alive    Two  £26.41   \n",
            "42                        Private Paris (Private #10)   Five  £47.61   \n",
            "43  #HigherSelfie: Wake Up Your Life. Free Your So...   Five  £23.11   \n",
            "44                    Without Borders (Wanderlove #1)    Two  £45.07   \n",
            "45                                   When We Collided    One  £31.77   \n",
            "46                       We Love You, Charlie Freeman   Five  £50.27   \n",
            "47            Untitled Collection: Sabbath Poems 2014   Four  £14.27   \n",
            "48  Unseen City: The Majesty of Pigeons, the Discr...   Four  £44.18   \n",
            "49                                     Unicorn Tracks  Three  £18.78   \n",
            "50  Unbound: How Eight Technologies Made Us Human,...    One  £25.52   \n",
            "51  Tsubasa: WoRLD CHRoNiCLE 2 (Tsubasa WoRLD CHRo...    One  £16.28   \n",
            "52  Throwing Rocks at the Google Bus: How Growth B...  Three  £31.12   \n",
            "53                                    This One Summer   Four  £19.49   \n",
            "54                                             Thirst   Five  £17.27   \n",
            "55        The Torch Is Passed: A Harding Family Story    One  £19.09   \n",
            "56                    The Secret of Dreadwillow Carse    One  £56.13   \n",
            "57  The Pioneer Woman Cooks: Dinnertime: Comfort C...    One  £56.41   \n",
            "58                                The Past Never Ends   Four  £56.50   \n",
            "59  The Natural History of Us (The Fine Art of Pre...  Three  £45.22   \n",
            "\n",
            "                                                 link  \n",
            "0   http://books.toscrape.com/a-light-in-the-attic...  \n",
            "1   http://books.toscrape.com/tipping-the-velvet_9...  \n",
            "2   http://books.toscrape.com/soumission_998/index...  \n",
            "3   http://books.toscrape.com/sharp-objects_997/in...  \n",
            "4   http://books.toscrape.com/sapiens-a-brief-hist...  \n",
            "5   http://books.toscrape.com/the-requiem-red_995/...  \n",
            "6   http://books.toscrape.com/the-dirty-little-sec...  \n",
            "7   http://books.toscrape.com/the-coming-woman-a-n...  \n",
            "8   http://books.toscrape.com/the-boys-in-the-boat...  \n",
            "9   http://books.toscrape.com/the-black-maria_991/...  \n",
            "10  http://books.toscrape.com/starving-hearts-tria...  \n",
            "11  http://books.toscrape.com/shakespeares-sonnets...  \n",
            "12  http://books.toscrape.com/set-me-free_988/inde...  \n",
            "13  http://books.toscrape.com/scott-pilgrims-preci...  \n",
            "14  http://books.toscrape.com/rip-it-up-and-start-...  \n",
            "15  http://books.toscrape.com/our-band-could-be-yo...  \n",
            "16      http://books.toscrape.com/olio_984/index.html  \n",
            "17  http://books.toscrape.com/mesaerion-the-best-s...  \n",
            "18  http://books.toscrape.com/libertarianism-for-b...  \n",
            "19  http://books.toscrape.com/its-only-the-himalay...  \n",
            "20  http://books.toscrape.com/in-her-wake_980/inde...  \n",
            "21  http://books.toscrape.com/how-music-works_979/...  \n",
            "22  http://books.toscrape.com/foolproof-preserving...  \n",
            "23  http://books.toscrape.com/chase-me-paris-night...  \n",
            "24  http://books.toscrape.com/black-dust_976/index...  \n",
            "25  http://books.toscrape.com/birdsong-a-story-in-...  \n",
            "26  http://books.toscrape.com/americas-cradle-of-q...  \n",
            "27  http://books.toscrape.com/aladdin-and-his-wond...  \n",
            "28  http://books.toscrape.com/worlds-elsewhere-jou...  \n",
            "29  http://books.toscrape.com/wall-and-piece_971/i...  \n",
            "30  http://books.toscrape.com/the-four-agreements-...  \n",
            "31  http://books.toscrape.com/the-five-love-langua...  \n",
            "32  http://books.toscrape.com/the-elephant-tree_96...  \n",
            "33  http://books.toscrape.com/the-bear-and-the-pia...  \n",
            "34  http://books.toscrape.com/sophies-world_966/in...  \n",
            "35  http://books.toscrape.com/penny-maybe_965/inde...  \n",
            "36  http://books.toscrape.com/maude-1883-1993she-g...  \n",
            "37  http://books.toscrape.com/in-a-dark-dark-wood_...  \n",
            "38  http://books.toscrape.com/behind-closed-doors_...  \n",
            "39  http://books.toscrape.com/you-cant-bury-them-a...  \n",
            "40  http://books.toscrape.com/slow-states-of-colla...  \n",
            "41  http://books.toscrape.com/reasons-to-stay-aliv...  \n",
            "42  http://books.toscrape.com/private-paris-privat...  \n",
            "43  http://books.toscrape.com/higherselfie-wake-up...  \n",
            "44  http://books.toscrape.com/without-borders-wand...  \n",
            "45  http://books.toscrape.com/when-we-collided_955...  \n",
            "46  http://books.toscrape.com/we-love-you-charlie-...  \n",
            "47  http://books.toscrape.com/untitled-collection-...  \n",
            "48  http://books.toscrape.com/unseen-city-the-maje...  \n",
            "49  http://books.toscrape.com/unicorn-tracks_951/i...  \n",
            "50  http://books.toscrape.com/unbound-how-eight-te...  \n",
            "51  http://books.toscrape.com/tsubasa-world-chroni...  \n",
            "52  http://books.toscrape.com/throwing-rocks-at-th...  \n",
            "53  http://books.toscrape.com/this-one-summer_947/...  \n",
            "54    http://books.toscrape.com/thirst_946/index.html  \n",
            "55  http://books.toscrape.com/the-torch-is-passed-...  \n",
            "56  http://books.toscrape.com/the-secret-of-dreadw...  \n",
            "57  http://books.toscrape.com/the-pioneer-woman-co...  \n",
            "58  http://books.toscrape.com/the-past-never-ends_...  \n",
            "59  http://books.toscrape.com/the-natural-history-...  \n"
          ]
        }
      ]
    }
  ]
}